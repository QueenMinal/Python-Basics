{
  "nbformat": 4,
  "nbformat_minor": 0,
  "metadata": {
    "colab": {
      "provenance": []
    },
    "kernelspec": {
      "name": "python3",
      "display_name": "Python 3"
    },
    "language_info": {
      "name": "python"
    }
  },
  "cells": [
    {
      "cell_type": "markdown",
      "source": [
        "# Python Basics Assignment\n",
        "# Python Basic Questions  :-"
      ],
      "metadata": {
        "id": "zpTU7MQp5EOE"
      }
    },
    {
      "cell_type": "markdown",
      "source": [
        "Q.1 what is python, and why is it popular?\n",
        "\n",
        "   -> Python is a programming language.it is easy to understand and write making it a popular choice among developers and programmers.phython has a large and active community and developers, an extensive standard library and third party packages for various domains.     \n",
        "\n",
        "Q.2 What is an interpreter in python  \n",
        "\n",
        "  -> A python interpreter is a computer program that translates python code into machine code so that a computer can understand and excute it.\n",
        "\n",
        "Q.3 What are pre-defined keywords in python?\n",
        "\n",
        "  -> Pre-defined keywords are reserved words in python that have special meanings and cannot be used as identifiers.  \n",
        "\n",
        "Q.4 Can keywords be used as variable names?\n",
        "\n",
        "  -> No keywords cannot be used as variable names in python because they are reserved words. they have special meanings and purposes, and cannot as variable names or identifiers.\n",
        "\n",
        "Q.5 What is mutability in python?\n",
        "\n",
        "  -> In python, mutability refers to the ability of an object to change after it has been created.\n",
        "\n",
        "Q.6 Why are lists mutable, but tuples are immutable?\n",
        "\n",
        "  -> In python, lists are mutable, meaning their contents can be changed,while tuples contents cannot be changed.\n",
        "\n",
        "Q.7 What is a difference between \"==\" and \"is\" operators in python?\n",
        "\n",
        "  -> The main difference between the \"==\" and \"is\" operators in python is that \"==\" compares the values of two objects, while \"is\" checks if the objects are identical.\n",
        "\n",
        "Q.8 What are logical operators in python?\n",
        "\n",
        "  -> Logical operators in python are used to evaluate multiple conditions and determone the truth value of an expression.they are also known as \"Boolean operators\".\n",
        "\n",
        "Q.9 What is type casting in python?\n",
        "\n",
        "  -> Type casting in python the process of converting a variables's data type from one type to another.it's also known as\n",
        "  \"type conversion\".  \n",
        "\n",
        "Q.10 What is the difference between implicit and explicit type casting?\n",
        "\n",
        "  -> The main difference between implicit and explicit type casting is that implicit automatically converts a value to a different data type based on the context. while explicit requires the programmer to explicitly define the type conversion.\n",
        "\n",
        "Q.11 What is the purpose of conditional statements in python?\n",
        "\n",
        "  -> The purpose of conditional statements in python is to control the flow of a program by making decisions based on certain conditions.\n",
        "\n",
        "Q.12 how does the elif statement work?\n",
        "\n",
        "  -> The \"elif\" keyword in python, stands for \"else if\". it can be used in conditional statements to check for multiple conditions.\n",
        "\n",
        "Q.13 What is the difference between for and while loops?\n",
        "\n",
        "  -> The main difference between for and while loop is that \"for\" loop is used when the number of iterations is known, while in \"while\" loop is used when the number of iterations is unknown.\n",
        "\n",
        "Q.14 Describe a scenario where a while loop is more suitable than a for loop?\n",
        "\n",
        "  -> A while loop is more suitable than a for loop when you don't know the exact number of iterations in advance, and the loop should continue based on a dynamic condition. the while loop is ideal for situation where you want to repeat actions until a certain condition is met or until an external factor changes.\n",
        "  \n",
        "  Scenario example:- User authentication imagine you're building a program that asks a user for their password until they enter the correct one. the number of attempts the user might need is not known beforehand, and the loop should continue running as long as the user hasn't entered the correct password."
      ],
      "metadata": {
        "id": "QO6fxnZjAlJD"
      }
    },
    {
      "cell_type": "markdown",
      "source": [
        "Practical Questions:-"
      ],
      "metadata": {
        "id": "Owa-AB9WyDXV"
      }
    },
    {
      "cell_type": "code",
      "source": [
        "# 1. Write a python program to print \"hello,World!\"\n",
        "a = \"hello, World!\"\n",
        "print(a)"
      ],
      "metadata": {
        "colab": {
          "base_uri": "https://localhost:8080/"
        },
        "id": "dWFjqXo_zKbB",
        "outputId": "6fe59ad5-7b35-4e73-b6aa-8e2b70edc873"
      },
      "execution_count": null,
      "outputs": [
        {
          "output_type": "stream",
          "name": "stdout",
          "text": [
            "hello, World!\n"
          ]
        }
      ]
    },
    {
      "cell_type": "code",
      "source": [
        "\n",
        "# 2. Write a python program that displays your name and age\n",
        "Name = \"minal mounas\"\n",
        "Age = \"28\"\n",
        "print(Name)\n",
        "print(Age)"
      ],
      "metadata": {
        "colab": {
          "base_uri": "https://localhost:8080/"
        },
        "id": "80LbM0Dk3Tvn",
        "outputId": "02974260-2cd4-4c16-9a45-9dab6a3b9bd8"
      },
      "execution_count": null,
      "outputs": [
        {
          "output_type": "stream",
          "name": "stdout",
          "text": [
            "minal mounas\n",
            "28\n"
          ]
        }
      ]
    },
    {
      "cell_type": "code",
      "source": [
        "# 3. Write code to print al the pre-defined keywords in pyhon uing keyword library\n",
        "import keyword\n",
        "print(keyword.kwlist)"
      ],
      "metadata": {
        "colab": {
          "base_uri": "https://localhost:8080/"
        },
        "id": "UDES0nD65Km7",
        "outputId": "964bb518-fe95-4a92-b930-9c68e50c35b2"
      },
      "execution_count": null,
      "outputs": [
        {
          "output_type": "stream",
          "name": "stdout",
          "text": [
            "['False', 'None', 'True', 'and', 'as', 'assert', 'async', 'await', 'break', 'class', 'continue', 'def', 'del', 'elif', 'else', 'except', 'finally', 'for', 'from', 'global', 'if', 'import', 'in', 'is', 'lambda', 'nonlocal', 'not', 'or', 'pass', 'raise', 'return', 'try', 'while', 'with', 'yield']\n"
          ]
        }
      ]
    },
    {
      "cell_type": "code",
      "source": [
        "# 4. Write a program that checks if  given word is a python keyword\n",
        "import keyword\n",
        "word = input(\"Enter your world\")\n",
        "if keyword.iskeyword(word):\n",
        "  print(word, \"is a python keyword\")\n",
        "else:\n",
        "  print(word, \"is not a python keyword\")"
      ],
      "metadata": {
        "colab": {
          "base_uri": "https://localhost:8080/"
        },
        "id": "d1b8uyWZ6DD4",
        "outputId": "4aa89275-cf58-4ba7-bb3b-4d594e78d8fa"
      },
      "execution_count": null,
      "outputs": [
        {
          "output_type": "stream",
          "name": "stdout",
          "text": [
            "Enter your world  False\n",
            "  False is not a python keyword\n"
          ]
        }
      ]
    },
    {
      "cell_type": "code",
      "source": [
        "# 5. Create a list and tuple in python, and demonstrate how attempting to change element works diffrently for each\n",
        "my_list = [1, 2, 3, 4, 5]\n",
        "my_tuple = (1, 2, 3, 4, 5)\n",
        "my_list[0] = 10 # attempting to change elements in the list\n",
        "print(my_list)\n",
        "try:\n",
        "  my_tuple[0] = 6 # attempting to change elements in the tuple\n",
        "except TypeError:\n",
        "  print(\"Tuples are immutaable\")\n"
      ],
      "metadata": {
        "colab": {
          "base_uri": "https://localhost:8080/"
        },
        "id": "tat2Bpkp_wOH",
        "outputId": "ee83b48c-98b8-4d07-cf14-47f3c26100b7"
      },
      "execution_count": null,
      "outputs": [
        {
          "output_type": "stream",
          "name": "stdout",
          "text": [
            "[10, 2, 3, 4, 5]\n",
            "Tuples are immutaable\n"
          ]
        }
      ]
    },
    {
      "cell_type": "code",
      "source": [
        "# 6. Write a functtion to demonstrate the behavior of mutable and immutable argument\n",
        "def demonstrate_mutable_immutable(mutable,immutable):\n",
        "  print(\"Before changes\")\n",
        "  print(mutable)\n",
        "  print(immutable)\n",
        "  mutable.append(4)\n",
        "  print(\"after change mutable\", mutable)\n",
        "  try:\n",
        "    immutable[0] = 14\n",
        "  except TypeError as e:\n",
        "    print(\"error\",e)\n",
        "\n",
        "    print(\"after change immutable\",immutable)\n",
        "\n",
        "  mutable = [1, 2, 3]\n",
        "  immutable = (1, 2, 3)\n",
        "  demonstrate_mutable_immutable(mutable,immutable)\n",
        "\n",
        "\n",
        "\n"
      ],
      "metadata": {
        "id": "0AyxyztlB8ec"
      },
      "execution_count": 32,
      "outputs": []
    },
    {
      "cell_type": "code",
      "source": [
        "# 7.Write a function to demonstrate the beehavior of mutable and immutablr argument\n",
        "def demonstrate_mutable_immutable(mutable,immutablr):\n",
        "  print(\"before changes\")\n",
        "  print(mutable)\n",
        "  print(immutable)\n",
        "  mutable.append(4)\n",
        "  print(\"after change mutable\", mutable)\n",
        "  try:\n",
        "    immutable[0] = 14\n",
        "  except TypeError as e:\n",
        "    print(\"error\",e)\n",
        "\n",
        "    print(\"after change immutable\",immutable)\n",
        "\n",
        "  mutable = [1, 2, 3]\n",
        "  immutable = (1, 2, 3)\n",
        "  demonstrate_mutable_immutable(mutable,immutable)"
      ],
      "metadata": {
        "id": "v9ygfdKDRU-9"
      },
      "execution_count": 33,
      "outputs": []
    },
    {
      "cell_type": "code",
      "source": [
        "# 8. Write a program to demonstrate the use of logical operators\n",
        "Age = 50\n",
        "temp = 162\n",
        "if (Age> 60 or temp>=98):\n",
        "  print(\"you should go to hospital\")\n",
        "else:\n",
        "  print(\"you are ok\")\n"
      ],
      "metadata": {
        "colab": {
          "base_uri": "https://localhost:8080/"
        },
        "id": "mzN9s6bwWjRm",
        "outputId": "8aba177d-0873-4ccf-ee77-30bb5fdaf068"
      },
      "execution_count": null,
      "outputs": [
        {
          "output_type": "stream",
          "name": "stdout",
          "text": [
            "you should go to hospital\n"
          ]
        }
      ]
    },
    {
      "cell_type": "code",
      "source": [
        "# 9. Write a python program to convert user input from string to integer, float and boolean types\n",
        "user_input = input(\"Enter a value:\")\n",
        "\n",
        "try:\n",
        "  Int_value = int(user_input)\n",
        "  print(f\"integer:{Int_value}\")\n",
        "except ValueError:\n",
        "  print(\"cannot convert to integer\")\n",
        "\n",
        "  try:\n",
        "    float_value = float(user_input)\n",
        "    print(f\"float:{float_value}\")\n",
        "  except ValueError:\n",
        "      print(\"cannot convert to float\")\n",
        "\n",
        "      try:\n",
        "        boolean_value = bool(user_input)\n",
        "        print(f\"boolean:{boolean_value}\")\n",
        "      except ValueError:\n",
        "        print(\"cannot convert to boolean\")"
      ],
      "metadata": {
        "id": "vkFVsDcibHov",
        "colab": {
          "base_uri": "https://localhost:8080/"
        },
        "outputId": "2217a287-34ef-4b43-88c8-5b883ea186a7"
      },
      "execution_count": 16,
      "outputs": [
        {
          "output_type": "stream",
          "name": "stdout",
          "text": [
            "Enter a value:123\n",
            "integer:123\n"
          ]
        }
      ]
    },
    {
      "cell_type": "code",
      "source": [
        "#10. Write code to demonstrate type casting with list elements\n",
        "# Type casting all elements in list.\n",
        "a = [\"2\", \"4\", \"6\", \"8\", \"10\"]\n",
        "list(map(int,a))"
      ],
      "metadata": {
        "colab": {
          "base_uri": "https://localhost:8080/"
        },
        "id": "74nxu9RZnFXh",
        "outputId": "9c6d719a-562d-4519-98b3-f7402a93ffd0"
      },
      "execution_count": null,
      "outputs": [
        {
          "output_type": "execute_result",
          "data": {
            "text/plain": [
              "[2, 4, 6, 8, 10]"
            ]
          },
          "metadata": {},
          "execution_count": 44
        }
      ]
    },
    {
      "cell_type": "code",
      "source": [
        "# 11. Write a program that checks if a number is positive, negative or zero\n",
        "num = -12\n",
        "if num > 0:\n",
        "  print(\"the number is positive\")\n",
        "\n",
        "elif num == 0:\n",
        "    print(\"the number is zero\")\n",
        "else:\n",
        "      print(\"the number is negative\")"
      ],
      "metadata": {
        "colab": {
          "base_uri": "https://localhost:8080/"
        },
        "id": "Gtzyo68cpNAE",
        "outputId": "342f0be5-e9c5-4674-eec8-e25c63a61d0d"
      },
      "execution_count": null,
      "outputs": [
        {
          "output_type": "stream",
          "name": "stdout",
          "text": [
            "the number is negative\n"
          ]
        }
      ]
    },
    {
      "cell_type": "code",
      "source": [
        "# 12. Write a for loop to print numbers from 1 to 10\n",
        "i = [1, 2, 3, 4, 5, 6, 7, 8,9, 10, 11, 12]\n",
        "for i in range(1,10):\n",
        "  print(i,end=\" \")"
      ],
      "metadata": {
        "colab": {
          "base_uri": "https://localhost:8080/"
        },
        "id": "A-wHJhinseU1",
        "outputId": "daa4dafe-842a-4412-e9bf-0696fa0c3e40"
      },
      "execution_count": null,
      "outputs": [
        {
          "output_type": "stream",
          "name": "stdout",
          "text": [
            "1 2 3 4 5 6 7 8 9 "
          ]
        }
      ]
    },
    {
      "cell_type": "code",
      "source": [
        "# 13. Write a python program to find the sum of all even numbers between 1 to 50\n",
        "#Use range to itrate through the even numbers directly\n",
        "\n",
        "sum = 0\n",
        "for i in range(2,51,2):\n",
        "  sum += i\n",
        "  print(sum)"
      ],
      "metadata": {
        "colab": {
          "base_uri": "https://localhost:8080/"
        },
        "id": "RY7yVxrjLwv1",
        "outputId": "086fb06a-ff21-4d3a-8da8-c877aa4a2590"
      },
      "execution_count": 26,
      "outputs": [
        {
          "output_type": "stream",
          "name": "stdout",
          "text": [
            "2\n",
            "6\n",
            "12\n",
            "20\n",
            "30\n",
            "42\n",
            "56\n",
            "72\n",
            "90\n",
            "110\n",
            "132\n",
            "156\n",
            "182\n",
            "210\n",
            "240\n",
            "272\n",
            "306\n",
            "342\n",
            "380\n",
            "420\n",
            "462\n",
            "506\n",
            "552\n",
            "600\n",
            "650\n"
          ]
        }
      ]
    },
    {
      "cell_type": "code",
      "source": [
        "# 14. Write a program to reverse a string using a while loop\n",
        "string = 'python'\n",
        "rev_str = \"\"\n",
        "length = len(string)-1\n",
        "while length >=0:\n",
        "  rev_str += string[length]\n",
        "  length -= 1\n",
        "  print(rev_str)\n"
      ],
      "metadata": {
        "id": "MhZsxfhKzk6O",
        "colab": {
          "base_uri": "https://localhost:8080/"
        },
        "outputId": "1c1d1368-334e-4bf7-eeb7-bf53c67ab0de"
      },
      "execution_count": null,
      "outputs": [
        {
          "output_type": "stream",
          "name": "stdout",
          "text": [
            "n\n",
            "no\n",
            "noh\n",
            "noht\n",
            "nohty\n",
            "nohtyp\n"
          ]
        }
      ]
    },
    {
      "cell_type": "code",
      "source": [
        "# 15. Write a python program to calculate the factorial of a number provided by the user using a while loop\n",
        "# Get input from the user\n",
        "num=int(input(\"Enter a number\"))\n",
        "\n",
        "# Intialize factorial result\n",
        "factorial=1\n",
        "\n",
        "# Handle case where number is 0 (since 0!=1)\n",
        "if num==0:\n",
        "  print(\"the factorial of 0 is 1\")\n",
        "else:\n",
        "  print(\"use a while loop to calculate factorial\")\n"
      ],
      "metadata": {
        "id": "8cVD89AJ31kg",
        "colab": {
          "base_uri": "https://localhost:8080/"
        },
        "outputId": "754c20d6-99ed-4493-f98b-d3bcbae4c8a3"
      },
      "execution_count": 19,
      "outputs": [
        {
          "output_type": "stream",
          "name": "stdout",
          "text": [
            "Enter a number2\n",
            "use a while loop to calculate factorial\n"
          ]
        }
      ]
    }
  ]
}